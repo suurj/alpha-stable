{
 "cells": [
  {
   "cell_type": "code",
   "execution_count": 1,
   "id": "aded10c7",
   "metadata": {},
   "outputs": [],
   "source": [
    "using Statistics, HDF5, CairoMakie\n",
    "CairoMakie.activate!(type=\"svg\")\n",
    "\n",
    "M = h5read(\"derivatives_2d.h5\",\"M\");\n",
    "D = h5read(\"derivatives_2d.h5\",\"D\");"
   ]
  },
  {
   "cell_type": "code",
   "execution_count": 2,
   "id": "72f65773",
   "metadata": {},
   "outputs": [],
   "source": [
    "Δ = 2*1e-3;\n",
    "A = .5:Δ:(1.9-Δ);\n",
    "R = 0.0:Δ:(30.0-Δ);"
   ]
  },
  {
   "cell_type": "code",
   "execution_count": 3,
   "id": "ad4aee37",
   "metadata": {},
   "outputs": [],
   "source": [
    "# Read upper estimate for |(∂_{ℓ₁,ℓ₂})f(r;α)| for (r,α) ∈ [R[j],R[j+1]]×[A[i],A[i+1]]\n",
    "∂(i,j,ℓ₁,ℓ₂) = D[i,j,ℓ₁+1,ℓ₂+1];\n",
    "\n",
    "# Compute lower estimate for f(r;α) for (r,α) ∈ [R[j],R[j+1]]×[A[i],A[i+1]] using the function above\n",
    "f(i,j) = min( M[i+1,j], M[i+1,j+1] ) - .5*Δ*∂(i,j,0,1);"
   ]
  },
  {
   "cell_type": "code",
   "execution_count": 4,
   "id": "b734c335",
   "metadata": {},
   "outputs": [],
   "source": [
    "# Compute upper estimates for |∂_{4,0} log (f(r;α))| on each square of the grid\n",
    "\n",
    "L40 = [\n",
    "    6*∂(i,j,1,0)^4/f(i,j)^4 + 12*∂(i,j,2,0)*∂(i,j,1,0)^2/f(i,j)^3 +\n",
    "    4*∂(i,j,3,0)*∂(i,j,1,0)/f(i,j)^2 + 3*∂(i,j,2,0)^2/f(i,j)^2 +\n",
    "    ∂(i,j,4,0)/f(i,j)\n",
    "    for i ∈ 1:length(A), j ∈ 1:length(R)\n",
    "];"
   ]
  },
  {
   "cell_type": "code",
   "execution_count": 5,
   "id": "0c8cb101",
   "metadata": {},
   "outputs": [],
   "source": [
    "L22 = [\n",
    "    6*∂(i,j,1,0)^2*∂(i,j,0,1)^2/f(i,j)^4 + 2*∂(i,j,2,0)*∂(i,j,0,1)^2/f(i,j)^3 +\n",
    "    8*∂(i,j,1,0)*∂(i,j,1,1)*∂(i,j,0,1)/f(i,j) + 2*∂(i,j,2,1)*∂(i,j,0,1)/f(i,j)^2 +\n",
    "    2*∂(i,j,0,2)*∂(i,j,1,0)/f(i,j)^3 + 2*∂(i,j,1,1)/f(i,j)^2 +\n",
    "    2*∂(i,j,1,0)*∂(i,j,1,2)/f(i,j)^2 + ∂(i,j,0,2)*∂(i,j,2,0)/f(i,j)^2 +\n",
    "    ∂(i,j,2,2)/f(i,j)\n",
    "    for i ∈ 1:length(A), j ∈ 1:length(R)\n",
    "];"
   ]
  },
  {
   "cell_type": "code",
   "execution_count": 6,
   "id": "a99ae855",
   "metadata": {},
   "outputs": [],
   "source": [
    "L04 = [\n",
    "    6*∂(i,j,0,1)^4/f(i,j)^4 + 12*∂(i,j,0,2)*∂(i,j,0,1)^2/f(i,j)^3 +\n",
    "    4*∂(i,j,0,3)*∂(i,j,0,1)/f(i,j)^2 + 3*∂(i,j,0,2)^2/f(i,j)^2 +\n",
    "    ∂(i,j,0,4)/f(i,j)\n",
    "    for i ∈ 1:length(A), j ∈ 1:length(R)\n",
    "];"
   ]
  },
  {
   "cell_type": "code",
   "execution_count": 33,
   "id": "e78950da",
   "metadata": {
    "scrolled": true
   },
   "outputs": [
    {
     "data": {
      "text/plain": [
       "(3.6137747188272077e8, CartesianIndex(700, 15000))"
      ]
     },
     "execution_count": 33,
     "metadata": {},
     "output_type": "execute_result"
    }
   ],
   "source": [
    "#findmax(L40[1:length(A),1:length(R)])\n",
    "findmax(L22[1:length(A),1:length(R)])"
   ]
  },
  {
   "cell_type": "code",
   "execution_count": 20,
   "id": "75b62eb7",
   "metadata": {},
   "outputs": [
    {
     "data": {
      "text/plain": [
       "0.578"
      ]
     },
     "execution_count": 20,
     "metadata": {},
     "output_type": "execute_result"
    }
   ],
   "source": [
    "A[40]"
   ]
  }
 ],
 "metadata": {
  "kernelspec": {
   "display_name": "Julia 1.8.2",
   "language": "julia",
   "name": "julia-1.8"
  },
  "language_info": {
   "file_extension": ".jl",
   "mimetype": "application/julia",
   "name": "julia",
   "version": "1.8.2"
  }
 },
 "nbformat": 4,
 "nbformat_minor": 5
}
